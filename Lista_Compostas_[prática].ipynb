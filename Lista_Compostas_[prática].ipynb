{
  "nbformat": 4,
  "nbformat_minor": 0,
  "metadata": {
    "colab": {
      "provenance": [],
      "include_colab_link": true
    },
    "kernelspec": {
      "name": "python3",
      "display_name": "Python 3"
    },
    "language_info": {
      "name": "python"
    }
  },
  "cells": [
    {
      "cell_type": "markdown",
      "metadata": {
        "id": "view-in-github",
        "colab_type": "text"
      },
      "source": [
        "<a href=\"https://colab.research.google.com/github/simoneCanto/Lista_Compostas_Case_II/blob/main/Lista_Compostas_%5Bpr%C3%A1tica%5D.ipynb\" target=\"_parent\"><img src=\"https://colab.research.google.com/assets/colab-badge.svg\" alt=\"Open In Colab\"/></a>"
      ]
    },
    {
      "cell_type": "markdown",
      "metadata": {
        "id": "99zA4INuNrJx"
      },
      "source": [
        "# Listas dentro de Listas\n",
        "\n",
        "As listas aceitam qualquer tipo de dados, até outras listas."
      ]
    },
    {
      "cell_type": "markdown",
      "metadata": {
        "id": "BynqPgYFNy6-"
      },
      "source": [
        "## Declarando uma lista composta\n",
        "\n",
        "Para declarar uma lista composta é só colocar uma lista dentro da outra"
      ]
    },
    {
      "cell_type": "markdown",
      "metadata": {
        "id": "z_X46qWcON0P"
      },
      "source": [
        "<h2> Entendendo como as listas compostas funcionam </h2>\n",
        "\n",
        "Imagina que eu tenho um cardápio. Dentro dele eu tenho vários comidas com seus respectivos preços.\n",
        "\n",
        "O cardápio seria então uma lista com todas as comidas\n",
        "\n",
        "Cada comida vai ser uma lista com o Nome da Comida e o seu Preço.\n",
        "\n",
        "```\n",
        "comida1 = ['Lanche', 10.9]\n",
        "comida2 = ['Batata',  5.5]\n",
        "comida3 = ['Refri' ,  3.9]\n",
        "cardapio = [comida1, comida2, comida3]\n",
        "```\n",
        "Então acessando os termos temos:\n",
        "```\n",
        "cardapio[0]    == comida1 == ['Lanche', 10.9]\n",
        "cardapio[0][1] == comida1[1] == 10.0\n",
        "cardapio[2]    == comida3 == ['Refri' ,  3.9]\n",
        "cardapio[2][0] == comida3[0] == 'Refri'\n",
        "```\n",
        "Vamos pegar uma lista dentro de outra lista já declarada e vamos entender como funciona acessar seus termos.\n",
        "\n",
        "<h3> Exemplo 1 </h3>\n",
        "\n",
        "Dado a lista abaixo:\n",
        "```\n",
        "cardapio = [['Lanche', 10.9], ['Batata',  5.5], ['Refri' ,  3.9]]\n",
        "```\n",
        "Acesse os valores:\n",
        "1. `cardapio[0]`, `cardapio[1]` e `cardapio[2]`\n",
        "2. `cardapio[0][0]`, `cardapio[0][1]`, `cardapio[1][0]`, `cardapio[1][1]`\n",
        "Repare nos tipos de cada variável"
      ]
    },
    {
      "cell_type": "code",
      "source": [
        "cardapio = [['Lanche', 10.9], ['Batata',  5.5], ['Refri' ,  3.9]]\n",
        "\n",
        "print(cardapio)\n",
        "print('cardapio[0] = ', cardapio[0])\n",
        "print('cardapio[1] = ', cardapio[1])\n",
        "print('cardapio[2] = ', cardapio[2])\n",
        "print('cardapio[0][0] = ', cardapio[0][0])\n",
        "print('cardapio[0][1] = ', cardapio[0][1])\n",
        "print('cardapio[1][0] = ', cardapio[1][0])\n",
        "print('cardapio[1][1] = ', cardapio[1][1])"
      ],
      "metadata": {
        "colab": {
          "base_uri": "https://localhost:8080/"
        },
        "id": "BIAZh-EaerCL",
        "outputId": "d9eb3c6d-ce44-4439-b04e-4112dd9d4c39"
      },
      "execution_count": null,
      "outputs": [
        {
          "output_type": "stream",
          "name": "stdout",
          "text": [
            "[['Lanche', 10.9], ['Batata', 5.5], ['Refri', 3.9]]\n",
            "cardapio[0] =  ['Lanche', 10.9]\n",
            "cardapio[1] =  ['Batata', 5.5]\n",
            "cardapio[2] =  ['Refri', 3.9]\n",
            "cardapio[0][0] =  Lanche\n",
            "cardapio[0][1] =  10.9\n",
            "cardapio[1][0] =  Batata\n",
            "cardapio[1][1] =  5.5\n"
          ]
        }
      ]
    },
    {
      "cell_type": "code",
      "metadata": {
        "colab": {
          "base_uri": "https://localhost:8080/"
        },
        "id": "BA80Nqs7GO45",
        "outputId": "b6ff1a09-35d0-4180-9b45-5b14c550a1d3"
      },
      "source": [
        "# Declarando a lista de listas:\n",
        "cardapio = [['Lanche', 10.9], ['Batata',  5.5], ['Refri' ,  3.9]]\n",
        "# Imprimindo os valores:\n",
        "print('cardapio[0] = ', cardapio[0])\n",
        "print('cardapio[1] = ', cardapio[1])\n",
        "print('cardapio[2] = ', cardapio[2])\n",
        "print('cardapio[0][0] = ', cardapio[0][0])\n",
        "print('cardapio[0][1] = ', cardapio[0][1])\n",
        "print('cardapio[1][0] = ', cardapio[1][0])\n",
        "print('cardapio[1][1] = ', cardapio[1][1])"
      ],
      "execution_count": null,
      "outputs": [
        {
          "output_type": "stream",
          "name": "stdout",
          "text": [
            "cardapio[0] =  ['Lanche', 10.9]\n",
            "cardapio[1] =  ['Batata', 5.5]\n",
            "cardapio[2] =  ['Refri', 3.9]\n",
            "cardapio[0][0] =  Lanche\n",
            "cardapio[0][1] =  10.9\n",
            "cardapio[1][0] =  Batata\n",
            "cardapio[1][1] =  5.5\n"
          ]
        }
      ]
    },
    {
      "cell_type": "markdown",
      "metadata": {
        "id": "8VHRSx9BRL83"
      },
      "source": [
        "Repare que sempre que estamos acessando os valores dentro da lista: o **primeiro** `[ ]` vai acessar as posições mais externas da lista, o **segundo** `[ ]` vai acessar as posição da lista referente à lista do **primeiro** `[ ]` e assim em diante."
      ]
    },
    {
      "cell_type": "markdown",
      "metadata": {
        "id": "7jTzBPLYRoOI"
      },
      "source": [
        "Agora que já entendemos como acessar seus valores vamos ver como declarar uma lista composta.\n",
        "\n",
        "<h2> Declarando por partes </h2>\n",
        "\n",
        "Neste caso declara-se cada item de dentro da lista principal e depois colocam-se seus valores dentro da lista principal. Para quem está começando é a forma mais simples de entender:\n",
        "\n",
        "```\n",
        "lanche = ['Lanche', 10.9]\n",
        "batata = ['Batata',  5.5]\n",
        "refri  = ['Refri' ,  3.9]\n",
        "cardapio = [lanche, batata, refri]\n",
        "```\n",
        "No exemplo acima foram criadas 3 variáveis para armazenar listas com as informações de cada comida. A seguir essas listas foram colocadas dentro da lista principal: cardapio.\n",
        "\n",
        "<h3> Exemplo 2 </h3>\n",
        "\n",
        "* Declare a lista do exemplo acima.\n",
        "* Imprima o valor da posição: `cardapio[1][0]`\n",
        "* Compare os valores: `lanche == cardapio[0]`"
      ]
    },
    {
      "cell_type": "code",
      "source": [
        "# Declarando a lista de listas:\n",
        "lanche = ['Lanche', 10.9]\n",
        "batata = ['Batata',  5.5]\n",
        "refri  = ['Refri' ,  3.9]\n",
        "cardapio = [lanche, batata, refri]\n",
        "\n",
        "# Imprimindo os valores:\n",
        "print('cardapio[1][0] = ', cardapio[1][0])\n",
        "print('lanche é igual a cardapio[0]?', lanche == cardapio[0])"
      ],
      "metadata": {
        "colab": {
          "base_uri": "https://localhost:8080/"
        },
        "id": "3PRkjnd2fmiy",
        "outputId": "ce4e496d-d775-4fe0-b053-6e2c310fc88e"
      },
      "execution_count": null,
      "outputs": [
        {
          "output_type": "stream",
          "name": "stdout",
          "text": [
            "cardapio[1][0] =  Batata\n",
            "lanche é igual a cardapio[0]? True\n"
          ]
        }
      ]
    },
    {
      "cell_type": "code",
      "metadata": {
        "colab": {
          "base_uri": "https://localhost:8080/"
        },
        "id": "QCEOfLvYSoKp",
        "outputId": "810ec5d5-effb-4952-b3e6-11499d147a91"
      },
      "source": [
        "# Declarando a lista de listas:\n",
        "\n",
        "# Imprimindo os valores:\n"
      ],
      "execution_count": null,
      "outputs": [
        {
          "output_type": "stream",
          "name": "stdout",
          "text": [
            "cardapio[1][0] = Batata\n",
            "lanche é igual a cardapio[0]? True\n"
          ]
        }
      ]
    },
    {
      "cell_type": "markdown",
      "metadata": {
        "id": "KcUlf4GvTGyC"
      },
      "source": [
        "<h2> Declaração direta </h2>\n",
        "\n",
        "Nesse caso declara-se tudo de uma só vez.\n",
        "\n",
        "```\n",
        "cardapio = [['Lanche', 10.9], ['Batata',  5.5], ['Refri' ,  3.9]]\n",
        "```\n",
        "Já neste exemplo, nós temos o `[]` mais externo que é a lista mais externa, no qual cada posição dela vai acessar uma das 3 listas dentro do cardápio.\n",
        "\n",
        "Os `[]` mais internos são listas de cada uma das comidas do cardápio mostrando os nomes e preços de cada item do cardápio.\n",
        "\n",
        "<h3> Exemplo 3 </h3>\n",
        "\n",
        "* Declare a lista do exemplo acima.\n",
        "* Imprima o valor da posição: `cardapio[2]` e `cardapio[2][1]`"
      ]
    },
    {
      "cell_type": "code",
      "source": [
        "# Declarando a lista de listas:\n",
        "cardapio = [['Lanche', 10.9], ['Batata',  5.5], ['Refri' ,  3.9]]\n",
        "\n",
        "# Imprimindo os valores:\n",
        "print('cardapio[2] = ', cardapio[2])\n",
        "print('cardapio[2][1] = ', cardapio[2][1])"
      ],
      "metadata": {
        "colab": {
          "base_uri": "https://localhost:8080/"
        },
        "id": "m2qk9XBygRKe",
        "outputId": "fc2c4f26-1edb-4ac5-a8d2-3603c3f249db"
      },
      "execution_count": null,
      "outputs": [
        {
          "output_type": "stream",
          "name": "stdout",
          "text": [
            "cardapio[2] =  ['Refri', 3.9]\n",
            "cardapio[2][1] =  3.9\n"
          ]
        }
      ]
    },
    {
      "cell_type": "code",
      "metadata": {
        "colab": {
          "base_uri": "https://localhost:8080/"
        },
        "id": "BfQcMDvIUH8e",
        "outputId": "19474d73-3476-4131-f01d-534fc88db065"
      },
      "source": [
        "# Declarando a lista de listas:\n",
        "\n",
        "\n",
        "# Imprimindo os valores:\n"
      ],
      "execution_count": null,
      "outputs": [
        {
          "output_type": "stream",
          "name": "stdout",
          "text": [
            "cardapio[2] = ['Refri', 3.9]\n",
            "cardapio[2][1] = 3.9\n"
          ]
        }
      ]
    },
    {
      "cell_type": "markdown",
      "metadata": {
        "id": "7CeCy-vNUb46"
      },
      "source": [
        "<h2> Declaração com .append() </h2>\n",
        "\n",
        "Como vimos nas aulas anteriores podemos usar o append para inserir um novo item a uma lista.\n",
        "\n",
        "No caso de lista composta podemos usar o `.append()` para inserir uma nova lista dentro da lista mais externa.\n",
        "\n",
        "```\n",
        "cardapio = []\n",
        "comida = []\n",
        "comida.append('Lanche')\n",
        "comida.append(10.9)\n",
        "cardapio.append(comida[:])\n",
        "```\n",
        "Verifique que primeiro temos que declarar nossa lista externa cardapio como uma lista vazia.\n",
        "\n",
        "A seguir criamos uma lista com os itens `comida`\n",
        "\n",
        "Finalmente usamos o `.append()` para colocarmos esses valores dentro da lista externa: `cardapio`\n",
        "\n",
        "<h3> Exemplo 4 </h3>\n",
        "\n",
        "* Declare a lista cardapio inteira usando o `append()`\n",
        "* Imprima o valor da posição: `cardapio[0]` e `cardapio[0][1]`"
      ]
    },
    {
      "cell_type": "code",
      "source": [
        "cardapio = []\n",
        "comida = []\n",
        "comida.append('Lanche')\n",
        "comida.append(10.9)\n",
        "cardapio.append(comida[:])\n",
        "\n",
        "print(f'cardapio[0] = {cardapio[0]}')\n",
        "print(f'cardapio[0][1] = {cardapio[0][1]}')"
      ],
      "metadata": {
        "colab": {
          "base_uri": "https://localhost:8080/"
        },
        "id": "msylY_-7hWxB",
        "outputId": "83136f9b-aa64-41f2-f557-d460489ba2f2"
      },
      "execution_count": null,
      "outputs": [
        {
          "output_type": "stream",
          "name": "stdout",
          "text": [
            "cardapio[0] = ['Lanche', 10.9]\n",
            "cardapio[0][1] = 10.9\n"
          ]
        }
      ]
    },
    {
      "cell_type": "code",
      "metadata": {
        "colab": {
          "base_uri": "https://localhost:8080/"
        },
        "id": "TeRFYEYKWR9o",
        "outputId": "4fe3a554-5218-4d5d-83a2-14891e5d94f0"
      },
      "source": [
        "# Declarando a lista de listas:\n",
        "cardapio = []\n",
        "comida = []\n",
        "\n",
        "# Imprimindo os valores:\n",
        "comida.append('Lanche')\n",
        "comida.append(10.9)\n",
        "cardapio.append(comida[:])\n",
        "comida.clear()\n",
        "\n",
        "comida.append('Batata')\n",
        "comida.append(5.5)\n",
        "cardapio.append(comida[:])\n",
        "comida.clear()\n",
        "\n",
        "comida.append('Refri')\n",
        "comida.append(3.5)\n",
        "cardapio.append(comida[:])\n",
        "comida.clear()\n",
        "\n",
        "print(cardapio)\n",
        "print(f'cardapio[0] = {cardapio[0]}')\n",
        "print(f'cardapio[0][1] = {cardapio[0][1]}')"
      ],
      "execution_count": null,
      "outputs": [
        {
          "output_type": "stream",
          "name": "stdout",
          "text": [
            "[['Lanche', 10.9], ['Batata', 5.5], ['Refri', 3.5]]\n",
            "cardapio[0] = ['Lanche', 10.9]\n",
            "cardapio[0][1] = 10.9\n"
          ]
        }
      ]
    },
    {
      "cell_type": "markdown",
      "metadata": {
        "id": "FXb_wmSFXCLR"
      },
      "source": [
        "Observe que tivemos que usar um método novo:\n",
        "\n",
        "```\n",
        "var.clear()\n",
        "```\n",
        "Esse método limpa a memória da variável eliminando todos os valores que existam dentro dela.\n",
        "\n",
        "Esse é um método muito útil para quando criamos algumas variáveis temporárias.\n",
        "\n",
        "<h2> Exercício 1 </h2>\n",
        "\n",
        "Usando o método do `append()` e `loops` crie uma lista composta na qual o usuário irá fornecer os termos\n",
        "\n",
        "* A lista externa deve ter 3 itens\n",
        "* A lista interna deve ter 2 itens cada."
      ]
    },
    {
      "cell_type": "code",
      "metadata": {
        "colab": {
          "base_uri": "https://localhost:8080/"
        },
        "id": "aQf8MlzFG5E6",
        "outputId": "6721b6f6-3353-421b-a467-7dee02721cfe"
      },
      "source": [
        "# Declarando as listas vazias\n",
        "cardapio = []\n",
        "comida = []\n",
        "\n",
        "# Pedindo para o usuário fornecer os valores\n",
        "for c in range(0,3):\n",
        "  comida.append(str(input('Nome da comida: ')))\n",
        "  comida.append(float(input('Preço da comida: ')))\n",
        "  cardapio.append(comida[:]) #guarda informação antiga\n",
        "  comida.clear()    #limpando a memória da variável\n",
        "print(cardapio)"
      ],
      "execution_count": null,
      "outputs": [
        {
          "output_type": "stream",
          "name": "stdout",
          "text": [
            "Nome da comida: Lanche\n",
            "Preço da comida: 10.9\n",
            "Nome da comida: Batata\n",
            "Preço da comida: 5.5\n",
            "Nome da comida: Refri\n",
            "Preço da comida: 3.5\n",
            "[['Lanche', 10.9], ['Batata', 5.5], ['Refri', 3.5]]\n"
          ]
        }
      ]
    },
    {
      "cell_type": "markdown",
      "metadata": {
        "id": "UizibgHCX7wi"
      },
      "source": [
        "## Acessando os valores de uma lista composta\n",
        "\n",
        "Para acessar os valores de uma lista composta é só usar os `[ ]`.\n",
        "\n",
        "Sempre é acessada a lista mais externa para a mais interna"
      ]
    },
    {
      "cell_type": "markdown",
      "metadata": {
        "id": "_ANFXPRQYbDr"
      },
      "source": [
        "<h2> Acesso direto </h2>\n",
        "\n",
        "Para acessar as listas é só colocar a posição da lista desejada no primeiro `[ ]`\n",
        "\n",
        "```\n",
        "cardapio[0]    == ['Lanche', 10.9]\n",
        "cardapio[1]    == ['Batata',  5.5]\n",
        "cardapio[2]    == ['Refri' ,  3.9]\n",
        "```\n",
        "Para acessar os valores dentro das listas é só colocar a posição do valor da lista desejada no segundo `[ ]`\n",
        "\n",
        "```\n",
        "cardapio[0][1] == 10.9\n",
        "cardapio[1][0] == 'Batata'\n",
        "cardapio[2][0] == 'Refri'\n",
        "```\n",
        "\n",
        "<h3> Exemplo 5 </h3>\n",
        "\n",
        "Dado a lista anterior: `cardapio` acesse os valores listados acima."
      ]
    },
    {
      "cell_type": "code",
      "metadata": {
        "colab": {
          "base_uri": "https://localhost:8080/"
        },
        "id": "h50tsbqTZCNq",
        "outputId": "6b4d98bd-ddd1-43fc-914a-a2cd5fba2c43"
      },
      "source": [
        "# Acessando as listas:\n",
        "print(cardapio[0])\n",
        "print(cardapio[1])\n",
        "print(cardapio[2])\n",
        "\n",
        "# Acessando os valores dentro das listas:\n",
        "print(cardapio[0][1])\n",
        "print(cardapio[1][0])\n",
        "print(cardapio[2][0])"
      ],
      "execution_count": null,
      "outputs": [
        {
          "output_type": "stream",
          "name": "stdout",
          "text": [
            "['Lanche', 10.9]\n",
            "['Batata', 5.5]\n",
            "['Refri', 3.5]\n",
            "10.9\n",
            "Batata\n",
            "Refri\n"
          ]
        }
      ]
    },
    {
      "cell_type": "markdown",
      "metadata": {
        "id": "1sllZVncZsAv"
      },
      "source": [
        "<h2> Acessando valores dentro de um for </h2>\n",
        "\n",
        "Assim como podemos declarar os valores dentro de loopings também podemos acessá-los.\n",
        "```\n",
        "for c in cardapio:\n",
        "  print(f'c = {c}, c[0] = {c[0]}, c[1] = {c[1]}')\n",
        "```\n",
        "Basicamente o funcionamento do for é: Para cada `lista c` dentro de `cardapio`, plote a posição `[pos]` dessa lista.\n",
        "\n",
        "<h3> Exemplo 6 </h3>\n",
        "\n",
        "Dado a lista anterior: `cardapio`, acesse:\n",
        "* Todos os nomes no cardápio\n",
        "* Todos os preços no cardápio"
      ]
    },
    {
      "cell_type": "code",
      "metadata": {
        "colab": {
          "base_uri": "https://localhost:8080/"
        },
        "id": "zVk6X1qjJR0O",
        "outputId": "416faaf2-1a9f-408f-ae22-92b26133253f"
      },
      "source": [
        "# Imprimindo todas as listas c\n",
        "for c in cardapio:\n",
        "  print(f'c = {c}')\n",
        "print('-'*20)\n",
        "\n",
        "# Imprimindo todos os nomes\n",
        "for c in cardapio:\n",
        "  print(f'c[0] = nome = {c[0]}')\n",
        "print('-'*20)\n",
        "\n",
        "# Imprimindo todos os preços\n",
        "for c in cardapio:\n",
        "  print(f'c[1] = preço = {c[1]}')\n",
        "print('-'*20)"
      ],
      "execution_count": null,
      "outputs": [
        {
          "output_type": "stream",
          "name": "stdout",
          "text": [
            "c = ['Lanche', 10.9]\n",
            "c = ['Batata', 5.5]\n",
            "c = ['Refri', 3.5]\n",
            "--------------------\n",
            "c[0] = nome = Lanche\n",
            "c[0] = nome = Batata\n",
            "c[0] = nome = Refri\n",
            "--------------------\n",
            "c[1] = preço = 10.9\n",
            "c[1] = preço = 5.5\n",
            "c[1] = preço = 3.5\n",
            "--------------------\n"
          ]
        }
      ]
    },
    {
      "cell_type": "markdown",
      "metadata": {
        "id": "TqGayzuGnRg7"
      },
      "source": [
        "# Exercícios\n"
      ]
    },
    {
      "cell_type": "markdown",
      "metadata": {
        "id": "TePbhvmQnWKa"
      },
      "source": [
        "<h2> Exercício 1 </h2>\n",
        "\n",
        "Dada a lista:\n",
        "```\n",
        "cardapio = [['Lanche', 10.9], ['Batata',  5.5], ['Refri' ,  3.9]]\n",
        "```\n",
        "Faça um programa que irá mostrar o cardápio do restaurante de forma organizada."
      ]
    },
    {
      "cell_type": "code",
      "source": [],
      "metadata": {
        "id": "eu7BMKHolLAT"
      },
      "execution_count": null,
      "outputs": []
    },
    {
      "cell_type": "code",
      "metadata": {
        "id": "wur0enxZntOs",
        "colab": {
          "base_uri": "https://localhost:8080/"
        },
        "outputId": "174461d3-e6cb-441e-bbfc-da2319455303"
      },
      "source": [
        "cardapio = [['Lanche', 10.9], ['Batata',  5.5], ['Refri' ,  3.9]]\n",
        "print('-'*34)\n",
        "print('-'*12, 'Cardápio', '-'*12)\n",
        "print('-'*34)\n",
        "print(cardapio[0][0], '.'*22, cardapio[0][1])\n",
        "print(cardapio[1][0], '.'*23, cardapio[1][1])\n",
        "print(cardapio[2][0], '.'*24, cardapio[2][1])\n",
        "print('-'*34)"
      ],
      "execution_count": null,
      "outputs": [
        {
          "output_type": "stream",
          "name": "stdout",
          "text": [
            "----------------------------------\n",
            "------------ Cardápio ------------\n",
            "----------------------------------\n",
            "Lanche ...................... 10.9\n",
            "Batata ....................... 5.5\n",
            "Refri ........................ 3.9\n",
            "----------------------------------\n"
          ]
        }
      ]
    },
    {
      "cell_type": "markdown",
      "metadata": {
        "id": "fTU72RWcnttp"
      },
      "source": [
        "<h2> Exercício 2 </h2>\n",
        "\n",
        "Faça um programa que irá mostrar item a item do cardápio para o usuário e irá perguntar quantos daquele item a pessoa quer comprar.\n",
        "\n",
        "No final mostre a quantidade de cada item comprado e também o valor total da compra."
      ]
    },
    {
      "cell_type": "code",
      "metadata": {
        "id": "mj12E2M5oLrU",
        "colab": {
          "base_uri": "https://localhost:8080/"
        },
        "outputId": "ec9db2a7-6a2c-477f-c1b8-9ebb5a516240"
      },
      "source": [
        "cardapio = [['Lanche', 10.9], ['Batata',  5.5], ['Refri' ,  3.9]]\n",
        "print('-'*34)\n",
        "print('-'*12, 'Cardápio', '-'*12)\n",
        "print('-'*34)\n",
        "print(cardapio[0][0], '.'*22, cardapio[0][1])\n",
        "print(cardapio[1][0], '.'*23, cardapio[1][1])\n",
        "print(cardapio[2][0], '.'*24, cardapio[2][1])\n",
        "print('-'*34)\n",
        "print()\n",
        "x = float(input('Quantos Lanches você quer comprar? '))\n",
        "print()\n",
        "y = float(input('Quantas Batatas você quer comprar? '))\n",
        "print()\n",
        "z = float(input('Quantos Refris você quer comprar? '))\n",
        "print()\n",
        "\n",
        "qtde = [x,y,z]\n",
        "\n",
        "mult1 = x * cardapio[0][1]\n",
        "mult2 = y * cardapio[1][1]\n",
        "mult3 = z * cardapio[2][1]\n",
        "\n",
        "soma = mult1 + mult2 + mult3\n",
        "\n",
        "print('Você comprou', x, cardapio[0][0] )\n",
        "print('Você comprou', y, cardapio[1][0] )\n",
        "print('Você comprou', z, cardapio[2][0] )\n",
        "print()\n",
        "print('o Valor total de sua compra foi de', round(soma, 2))\n",
        "\n"
      ],
      "execution_count": null,
      "outputs": [
        {
          "output_type": "stream",
          "name": "stdout",
          "text": [
            "----------------------------------\n",
            "------------ Cardápio ------------\n",
            "----------------------------------\n",
            "Lanche ...................... 10.9\n",
            "Batata ....................... 5.5\n",
            "Refri ........................ 3.9\n",
            "----------------------------------\n",
            "\n",
            "Quantos Lanches você quer comprar? 3\n",
            "\n",
            "Quantas Batatas você quer comprar? 4\n",
            "\n",
            "Quantos Refris você quer comprar? 2\n",
            "\n",
            "Você comprou 3.0 Lanche\n",
            "Você comprou 4.0 Batata\n",
            "Você comprou 2.0 Refri\n",
            "\n",
            "o Valor total de sua compra foi de 62.5\n"
          ]
        }
      ]
    },
    {
      "cell_type": "markdown",
      "metadata": {
        "id": "GdhY9fG3oMAb"
      },
      "source": [
        "<h2> Exercício 3 </h2>\n",
        "Faça um programa que o usuário cadastre algumas informações sobre clientes:\n",
        "\n",
        "* nome\n",
        "* email\n",
        "* telefone\n",
        "* idade\n",
        "\n",
        "A seguir faça um sistema de pesquisa no qual o usuário digita o email e o sistema mostra todas as informações deste usuário.\n"
      ]
    },
    {
      "cell_type": "code",
      "metadata": {
        "id": "7etBAWLGopQS",
        "colab": {
          "base_uri": "https://localhost:8080/"
        },
        "outputId": "eff2dabd-f766-47b0-8d97-8e5e1529e57f"
      },
      "source": [
        "# Parte 1 cadastra informações sobre clientes\n",
        "cadastro = []\n",
        "pessoas = []\n",
        "\n",
        "while True:\n",
        "    print()\n",
        "    print(\"1-Cadastrar pessoa\")\n",
        "    print('2-Finalizar')\n",
        "    print('3-Procurar pessoa')\n",
        "    print()\n",
        "    op = int(input('Escolha a opção desejada: '))#Escolha da opcao\n",
        "    if op == 1:\n",
        "        pessoas.append(str(input('Digite o nome da pessoa: ')))\n",
        "        pessoas.append(str(input('Digite o e-mail da pessoa: ')))\n",
        "        pessoas.append(int(input('Digite o telefone da pessoa: ')))\n",
        "        pessoas.append(int(input('Digite a idade da pessoa: ')))\n",
        "        cadastro.append(pessoas[:])  # armazena as informações antigas\n",
        "        pessoas.clear() # zera para receber informações para a próxima posição\n",
        "\n",
        "    elif op == 2:\n",
        "      print('Fim da consulta')\n",
        "      print()\n",
        "      print('Lista cadastrada:')\n",
        "      print(cadastro)\n",
        "      break\n",
        "\n",
        "    # Realiza busca pelo cliente\n",
        "    elif op == 3:\n",
        "     # Realiza a busca dentro da lista\n",
        "      def busca(valor):\n",
        "          i, j = 0,0 # indides incialmente definidos como 0\n",
        "\n",
        "          # percorrendo lista externa\n",
        "          for sub in cadastro:\n",
        "              #verificando se o valor buscado esta dentro de alguma lista interna\n",
        "              if valor in sub:\n",
        "                  # atribuindo o indice do valor buscado a j\n",
        "                  j = sub.index(valor)\n",
        "                  break # sai do loop\n",
        "              i +=1 # incrementa\n",
        "          else:\n",
        "              # caso o valor buscado nao seja encontrado\n",
        "              return None\n",
        "\n",
        "          return cadastro[i][0], cadastro[i][1], cadastro[i][2], cadastro[i][3]\n",
        "\n",
        "\n",
        "      result = busca(str(input('Digite o e-mail da pessoa: ')))\n",
        "      print(result)\n",
        "      break"
      ],
      "execution_count": null,
      "outputs": [
        {
          "output_type": "stream",
          "name": "stdout",
          "text": [
            "\n",
            "1-Cadastrar pessoa\n",
            "2-Finalizar\n",
            "3-Procurar pessoa\n",
            "\n",
            "Escolha a opção desejada: 1\n",
            "Digite o nome da pessoa: Simone\n",
            "Digite o e-mail da pessoa: simone.tati@gmail.com\n",
            "Digite o telefone da pessoa: 19993563294\n",
            "Digite a idade da pessoa: 42\n",
            "\n",
            "1-Cadastrar pessoa\n",
            "2-Finalizar\n",
            "3-Procurar pessoa\n",
            "\n",
            "Escolha a opção desejada: 1\n",
            "Digite o nome da pessoa: Euclides\n",
            "Digite o e-mail da pessoa: gordo@lindo.com\n",
            "Digite o telefone da pessoa: 19927832\n",
            "Digite a idade da pessoa: 2\n",
            "\n",
            "1-Cadastrar pessoa\n",
            "2-Finalizar\n",
            "3-Procurar pessoa\n",
            "\n",
            "Escolha a opção desejada: 1\n",
            "Digite o nome da pessoa: Teresinha\n",
            "Digite o e-mail da pessoa: teresa@mae.com\n",
            "Digite o telefone da pessoa: 199082637\n",
            "Digite a idade da pessoa: 65\n",
            "\n",
            "1-Cadastrar pessoa\n",
            "2-Finalizar\n",
            "3-Procurar pessoa\n",
            "\n",
            "Escolha a opção desejada: 3\n",
            "Digite o e-mail da pessoa: teresa@mae.com\n",
            "('Teresinha', 'teresa@mae.com', 199082637, 65)\n"
          ]
        }
      ]
    },
    {
      "cell_type": "code",
      "source": [],
      "metadata": {
        "id": "c7P_5X98QefJ"
      },
      "execution_count": null,
      "outputs": []
    },
    {
      "cell_type": "code",
      "source": [
        "lista = cadastro\n",
        "print(lista)\n",
        "\n",
        "# Realiza a busca dentro da lista\n",
        "def busca(valor):\n",
        "    i, j = 0,0 # indides incialmente definidos como 0\n",
        "\n",
        "    # percorrendo lista externa\n",
        "    for sub in lista:\n",
        "        #verificando se o valor buscado esta dentro de alguma lista interna\n",
        "        if valor in sub:\n",
        "            # atribuindo o indice do valor buscado a j\n",
        "            j = sub.index(valor)\n",
        "            break # sai do loop\n",
        "        i +=1 # incrementa\n",
        "    else:\n",
        "        # caso o valor buscado nao seja encontrado\n",
        "        return None\n",
        "\n",
        "    return lista[i][0], lista[i][1], lista[i][2], lista[i][3]\n",
        "\n",
        "\n",
        "result = busca(str(input('Digite o e-mail da pessoa: ')))\n",
        "print(result)"
      ],
      "metadata": {
        "colab": {
          "base_uri": "https://localhost:8080/"
        },
        "id": "6in9HfEGyF5W",
        "outputId": "8ad2fb37-ce41-48af-bf5a-99e0695cb1b5"
      },
      "execution_count": null,
      "outputs": [
        {
          "output_type": "stream",
          "name": "stdout",
          "text": [
            "[['Simone', 'simone.tati@gmail.com', 19993563294, 42], ['Euclides', 'gordo@lindo.com', 19927832, 2], ['Teresinha', 'teresa@mae.com', 199082637, 65]]\n",
            "Digite o e-mail da pessoa: Euclides\n",
            "('Euclides', 'gordo@lindo.com', 19927832, 2)\n"
          ]
        }
      ]
    }
  ]
}